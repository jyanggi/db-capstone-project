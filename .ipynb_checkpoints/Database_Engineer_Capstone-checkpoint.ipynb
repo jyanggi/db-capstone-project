{
 "cells": [
  {
   "cell_type": "markdown",
   "id": "ffd51890",
   "metadata": {},
   "source": [
    "## CAPSTONE\n"
   ]
  },
  {
   "cell_type": "markdown",
   "id": "4ed29344",
   "metadata": {},
   "source": [
    "# Week 2"
   ]
  },
  {
   "cell_type": "markdown",
   "id": "060b7b41",
   "metadata": {},
   "source": [
    "### Task 1 create OrdersView \n",
    "\n",
    "In the first task, Little Lemon need you to create a virtual table called OrdersView that focuses on OrderID, Quantity and Cost columns within the Orders table for all orders with a quantity greater than 2. \n",
    "- Use a CREATE VIEW statement.\n",
    "\n",
    "- Extract the order id, quantity and cost data from the Orders table.\n",
    "\n",
    "- Filter data from the orders table based on orders with a quantity greater than 2. "
   ]
  },
  {
   "cell_type": "code",
   "execution_count": 1,
   "id": "e79d9041",
   "metadata": {},
   "outputs": [
    {
     "name": "stdout",
     "output_type": "stream",
     "text": [
      "Requirement already satisfied: mysql-connector-python in d:\\python\\python39\\lib\\site-packages (8.0.32)\n",
      "Requirement already satisfied: protobuf<=3.20.3,>=3.11.0 in d:\\python\\python39\\lib\\site-packages (from mysql-connector-python) (3.20.3)\n",
      "Connection between MySQL and Python is established.\n",
      "\n",
      "Cursor is created to communicate with the MySQL using Python.\n",
      "\n",
      "The database LittleLemonDB is set for use.\n",
      "\n",
      "OrdersView table is created.\n",
      "\n"
     ]
    },
    {
     "name": "stderr",
     "output_type": "stream",
     "text": [
      "WARNING: You are using pip version 20.2.3; however, version 23.1.2 is available.\n",
      "You should consider upgrading via the 'd:\\python\\python39\\python.exe -m pip install --upgrade pip' command.\n"
     ]
    }
   ],
   "source": [
    "!pip install mysql-connector-python\n",
    "from decimal import Decimal\n",
    "# Import the MySQL Connector/Python\n",
    "import mysql.connector as connector\n",
    "\n",
    "# Establish connection between Python and MySQL database via connector API change creds based on your environment\n",
    "connection=connector.connect(\n",
    "                             user=\"root\", # use your own\n",
    "                             password=\"\", # use your own\n",
    "                            )\n",
    "print(\"Connection between MySQL and Python is established.\\n\")\n",
    "\n",
    "# Create cursor object to communicate with entire MySQL database\n",
    "cursor = connection.cursor()\n",
    "print(\"Cursor is created to communicate with the MySQL using Python.\\n\")\n",
    "\n",
    "cursor.execute(\"USE LittleLemonDB\")\n",
    "print(\"The database LittleLemonDB is set for use.\\n\")\n",
    "\n",
    "cursor.execute(\"DROP VIEW IF EXISTS OrdersView\")\n",
    "\n",
    "create_order_view = \"\"\"CREATE VIEW OrdersView AS\n",
    "SELECT o.orderid, o.quantity, o.totalcost FROM orders o\n",
    "WHERE o.quantity > 2;\n",
    "\"\"\"\n",
    "\n",
    "cursor.execute(create_order_view)\n",
    "print(\"OrdersView table is created.\\n\")\n",
    "\n"
   ]
  },
  {
   "cell_type": "markdown",
   "id": "2a4631a7",
   "metadata": {},
   "source": [
    "### Task 2 \n",
    "For your second task, Little Lemon need information from four tables on all customers with orders that cost more than $150. Extract the required information from each of the following tables by using the relevant JOIN clause: \n",
    "\n",
    "- Customers table: The customer id and full name.\n",
    "\n",
    "- Orders table: The order id and cost.\n",
    "\n",
    "- Menus table: The menus name.\n",
    "\n",
    "- MenusItems table: course name and starter name.\n",
    "\n",
    "The result set should be sorted by the lowest cost amount."
   ]
  },
  {
   "cell_type": "code",
   "execution_count": 2,
   "id": "213265b5",
   "metadata": {},
   "outputs": [
    {
     "name": "stdout",
     "output_type": "stream",
     "text": [
      "('CustomerId', 'FullName', 'OrderId', 'TotalCost', 'MenuName', 'CourseName', 'StarterName')\n",
      "(5, 'Tasia Fautly', 5, Decimal('155'), 'Greek salad', 'Greek salad', 'Olives')\n",
      "(4, 'Merrill Baudon', 4, Decimal('200'), 'Pizza', 'Pizza', 'Minestrone')\n"
     ]
    }
   ],
   "source": [
    "the_query = \"\"\"\n",
    "SELECT c.CustomerId, \n",
    "\t\tc.FullName,\n",
    "        o.OrderId,\n",
    "        o.TotalCost,\n",
    "        m.MenuName,\n",
    "        mi.CourseName,\n",
    "        mi.StarterName\n",
    "FROM customers c\n",
    "INNER JOIN orders o\n",
    "ON o.CustomerId = c.CustomerId\n",
    "INNER JOIN menus m\n",
    "ON o.MenuId = m.MenuId\n",
    "INNER JOIN menuitems mi\n",
    "ON m.MenuItemsId = mi.MenuItemsId\n",
    "WHERE o.TotalCost > 150\n",
    "ORDER BY o.TotalCost;\n",
    "\"\"\"\n",
    "\n",
    "cursor.execute(the_query)\n",
    "\n",
    "results=cursor.fetchall()\n",
    "columns=cursor.column_names\n",
    "print(columns)\n",
    "for result in results:\n",
    "    print(result)"
   ]
  },
  {
   "cell_type": "markdown",
   "id": "e3315c5b",
   "metadata": {},
   "source": [
    "### Task 3\n",
    "For the third and final task, Little Lemon need you to find all menu items for which more than 2 orders have been placed. You can carry out this task by creating a subquery that lists the menu names from the menus table for any order quantity with more than 2.\n",
    "\n",
    "Here’s some guidance around completing this task: \n",
    "\n",
    "- Use the ANY operator in a subquery\n",
    "\n",
    "- The outer query should be used to select the menu name from the menus table.\n",
    "\n",
    "- The inner query should check if any item quantity in the order table is more than 2. "
   ]
  },
  {
   "cell_type": "code",
   "execution_count": 3,
   "id": "10984d07",
   "metadata": {},
   "outputs": [
    {
     "name": "stdout",
     "output_type": "stream",
     "text": [
      "('MenuName',)\n",
      "('Pizza',)\n",
      "('Greek salad',)\n"
     ]
    }
   ],
   "source": [
    "the_query = \"\"\"\n",
    "SELECT m.MenuName \n",
    "from menus m\n",
    "WHERE m.MenuId = ANY(SELECT o2.MenuId FROM orders o2 WHERE o2.Quantity > 2);\n",
    "\"\"\"\n",
    "\n",
    "cursor.execute(the_query)\n",
    "\n",
    "results=cursor.fetchall()\n",
    "columns=cursor.column_names\n",
    "print(columns)\n",
    "for result in results:\n",
    "    print(result)\n"
   ]
  },
  {
   "cell_type": "markdown",
   "id": "250cc726",
   "metadata": {},
   "source": [
    "## Create optimized queries"
   ]
  },
  {
   "cell_type": "markdown",
   "id": "52692ab9",
   "metadata": {},
   "source": [
    "### Task 1\n",
    "In this first task, Little Lemon need you to create a procedure that displays the maximum ordered quantity in the Orders table. \n",
    "\n",
    "Creating this procedure will allow Little Lemon to reuse the logic implemented in the procedure easily without retyping the same code over again and again to check the maximum quantity. \n",
    "\n",
    "You can call the procedure GetMaxQuantity and invoke it as follows:\n",
    "```CALL GetMaxQuantity(); ```"
   ]
  },
  {
   "cell_type": "code",
   "execution_count": 4,
   "id": "9be38444",
   "metadata": {},
   "outputs": [
    {
     "name": "stdout",
     "output_type": "stream",
     "text": [
      "GetMaxQuantity proc created\n",
      "['Max Quantity in Orders']\n",
      "(6,)\n"
     ]
    }
   ],
   "source": [
    "stored_proc = \"\"\"\n",
    "CREATE PROCEDURE GetMaxQuantity()\n",
    "BEGIN\n",
    "SELECT MAX(quantity) as \"Max Quantity in Orders\" FROM orders;\n",
    "END\n",
    "\n",
    "\"\"\"\n",
    "cursor.execute(\"DROP PROCEDURE IF EXISTS GetMaxQuantity;\")\n",
    "cursor.execute(stored_proc)\n",
    "print('GetMaxQuantity proc created')\n",
    "# Retrieve recrods in \"dataset\"\n",
    "# Call the stored procedure with its name\n",
    "cursor.callproc(\"GetMaxQuantity\")\n",
    "results = next( cursor.stored_results() )\n",
    "dataset = results.fetchall()\n",
    "\n",
    "# Retrieve column names using list comprehension in a 'for' loop \n",
    "for column_id in cursor.stored_results():\n",
    "    columns = [ column[0] for column in column_id.description ]\n",
    "print(columns)\n",
    "\n",
    "# Print data \n",
    "for data in dataset:\n",
    "    print(data)\n",
    "    \n"
   ]
  },
  {
   "cell_type": "markdown",
   "id": "967c325c",
   "metadata": {},
   "source": [
    "### Task 2\n",
    "In the second task, Little Lemon need you to help them to create a prepared statement called ```GetOrderDetail```. This prepared statement will help to reduce the parsing time of queries. It will also help to secure the database from SQL injections.\n",
    "\n",
    "The prepared statement should accept one input argument, the CustomerID value, from a variable. \n",
    "\n",
    "The statement should return the order id, the quantity and the order cost from the Orders table. \n",
    "\n",
    "Once you create the prepared statement, you can create a variable called id and assign it value of 1. \n",
    "\n",
    "Then execute the GetOrderDetail prepared statement using the following syntax:\n",
    "```\n",
    "SET @id = 1;\n",
    "EXECUTE GetOrderDetail USING @id;\n",
    "```"
   ]
  },
  {
   "cell_type": "code",
   "execution_count": 5,
   "id": "60b17744",
   "metadata": {},
   "outputs": [
    {
     "name": "stdout",
     "output_type": "stream",
     "text": [
      "('orderid', 'quantity', 'totalcost')\n",
      "['1', '2', '86']\n"
     ]
    }
   ],
   "source": [
    "cursor.execute(\"PREPARE GetOrderDetail FROM 'SELECT orderid, quantity, totalcost from orders where customerid = ?';\")\n",
    "cursor.execute(\"SET @id = 1;\")\n",
    "cursor.execute(\"EXECUTE GetOrderDetail USING @id;\")\n",
    "results=cursor.fetchall()\n",
    "columns=cursor.column_names\n",
    "print(columns)\n",
    "for result in results:\n",
    "    print([str(r) for r in result])"
   ]
  },
  {
   "cell_type": "markdown",
   "id": "57db0dda",
   "metadata": {},
   "source": [
    "### Task 3\n",
    "Your third and final task is to create a stored procedure called ```CancelOrder```. Little Lemon want to use this stored procedure to delete an order record based on the user input of the order id.\n",
    "\n",
    "Creating this procedure will allow Little Lemon to cancel any order by specifying the order id value in the procedure parameter without typing the entire SQL delete statement.   "
   ]
  },
  {
   "cell_type": "code",
   "execution_count": 6,
   "id": "9d723e7f",
   "metadata": {},
   "outputs": [
    {
     "name": "stdout",
     "output_type": "stream",
     "text": [
      "CancelOrder proc created\n",
      "['confirmation']\n",
      "('Order id 7 is cancelled',)\n"
     ]
    }
   ],
   "source": [
    "insert_test_data = \"\"\"\n",
    "INSERT INTO Orders (OrderID, OrderDate, CustomerId, MenuID,  Quantity, TotalCost)\n",
    "VALUES\n",
    "(7, '2023-01-01', 5, 1,  6, 155);\n",
    "\"\"\"\n",
    "cursor.execute(insert_test_data);\n",
    "connection.commit();\n",
    "\n",
    "stored_proc = \"\"\"\n",
    "CREATE PROCEDURE CancelOrder(IN order_id INT)\n",
    "BEGIN\n",
    "DECLARE is_exists TINYINT DEFAULT 0;\n",
    "DECLARE result VARCHAR(255); \n",
    "SELECT EXISTS(SELECT 1 from orders WHERE OrderId = order_id) INTO is_exists;\n",
    "IF  is_exists = 0 THEN\n",
    "\tSET result =  CONCAT('Order id ' , order_id , ' does not exist.');\n",
    "ELSE\n",
    "DELETE FROM orders WHERE OrderId = order_id;\n",
    "COMMIT;\n",
    "SET result = CONCAT( 'Order id ' , order_id , ' is cancelled');\n",
    "END IF;\n",
    "SELECT result AS confirmation;\n",
    "END\n",
    "\"\"\"\n",
    "cursor.execute(\"DROP PROCEDURE IF EXISTS CancelOrder;\")\n",
    "cursor.execute(stored_proc)\n",
    "print('CancelOrder proc created')\n",
    "# Retrieve recrods in \"dataset\"\n",
    "# Call the stored procedure with its name\n",
    "cursor.callproc(\"CancelOrder\", args=(7,))\n",
    "results = next( cursor.stored_results() )\n",
    "dataset = results.fetchall()\n",
    "\n",
    "# Retrieve column names using list comprehension in a 'for' loop \n",
    "for column_id in cursor.stored_results():\n",
    "    columns = [ column[0] for column in column_id.description ]\n",
    "print(columns)\n",
    "\n",
    "# Print data \n",
    "for data in dataset:\n",
    "    print(data)\n",
    "    \n"
   ]
  },
  {
   "cell_type": "markdown",
   "id": "e1906adf",
   "metadata": {},
   "source": [
    "## Create SQL queries to add and update bookings"
   ]
  },
  {
   "cell_type": "markdown",
   "id": "fb38625e",
   "metadata": {},
   "source": [
    "### Task 1\n",
    "In this first task you need to create a new procedure called ```AddBooking``` to add a new table booking record.\n",
    "\n",
    "The procedure should include four input parameters in the form of the following bookings parameters:\n",
    "\n",
    "- booking id, \n",
    "\n",
    "- customer id, \n",
    "\n",
    "- booking date,\n",
    "\n",
    "- and table number.\n"
   ]
  },
  {
   "cell_type": "code",
   "execution_count": 7,
   "id": "64b54e62",
   "metadata": {},
   "outputs": [
    {
     "name": "stdout",
     "output_type": "stream",
     "text": [
      "AddBooking proc created\n",
      "['confirmation']\n",
      "('New Booking Added',)\n"
     ]
    }
   ],
   "source": [
    "\n",
    "stored_proc = \"\"\"\n",
    "CREATE PROCEDURE AddBooking(IN booking_id INT, IN customer_id INT, IN booking_date DATE, IN table_number INT)\n",
    "BEGIN\n",
    "DECLARE is_exists TINYINT DEFAULT 0;\n",
    "DECLARE result VARCHAR(255); \n",
    "SELECT EXISTS(SELECT 1 from Bookings WHERE BookingId = booking_id) INTO is_exists;\n",
    "IF  is_exists = 1 THEN\n",
    "\tSET result =  CONCAT('Booking id ' , booking_id , ' already exists.');\n",
    "ELSE\n",
    "INSERT INTO Bookings (BookingId, CustomerId, BookingDate, TableNumber)\n",
    "VALUES\n",
    "(booking_id, customer_id, booking_date, table_number);\n",
    "COMMIT;\n",
    "SET result = 'New Booking Added';\n",
    "END IF;\n",
    "SELECT result AS confirmation;\n",
    "\n",
    "END\n",
    "\"\"\"\n",
    "cursor.execute(\"DROP PROCEDURE IF EXISTS AddBooking;\")\n",
    "cursor.execute(stored_proc)\n",
    "print('AddBooking proc created')\n",
    "# Retrieve recrods in \"dataset\"\n",
    "# Call the stored procedure with its name\n",
    "cursor.callproc(\"AddBooking\", args=(1, 1, '2023-05-01', 10))\n",
    "results = next( cursor.stored_results() )\n",
    "dataset = results.fetchall()\n",
    "\n",
    "# Retrieve column names using list comprehension in a 'for' loop \n",
    "for column_id in cursor.stored_results():\n",
    "    columns = [ column[0] for column in column_id.description ]\n",
    "print(columns)\n",
    "\n",
    "# Print data \n",
    "for data in dataset:\n",
    "    print(data)\n",
    "    \n"
   ]
  },
  {
   "cell_type": "markdown",
   "id": "c858a30f",
   "metadata": {},
   "source": [
    "### Task 2\n",
    "For your second task, Little Lemon need you to create a new procedure called ```UpdateBooking``` that they can use to update existing bookings in the booking table.\n",
    "\n",
    "The procedure should have two input parameters in the form of booking id and booking date. You must also include an ```UPDATE``` statement inside the procedure. \n",
    "\n"
   ]
  },
  {
   "cell_type": "code",
   "execution_count": 8,
   "id": "1f9a5df1",
   "metadata": {},
   "outputs": [
    {
     "name": "stdout",
     "output_type": "stream",
     "text": [
      "UpdateBooking proc created\n",
      "['confirmation']\n",
      "('Booking 1 updated.',)\n"
     ]
    }
   ],
   "source": [
    "\n",
    "stored_proc = \"\"\"\n",
    "CREATE PROCEDURE UpdateBooking(IN booking_id INT, IN booking_date DATE)\n",
    "BEGIN\n",
    "DECLARE is_exists TINYINT DEFAULT 0;\n",
    "DECLARE result VARCHAR(255); \n",
    "SELECT EXISTS(SELECT 1 from Bookings WHERE BookingId = booking_id) INTO is_exists;\n",
    "IF  is_exists = 0 THEN\n",
    "\tSET result =  CONCAT('Booking id ' , booking_id , ' does not exist.');\n",
    "ELSE\n",
    "UPDATE Bookings SET BookingDate = booking_date WHERE BookingId = booking_id;\n",
    "COMMIT;\n",
    "SET result = CONCAT('Booking ' , booking_id , ' updated.');\n",
    "END IF;\n",
    "SELECT result AS confirmation;\n",
    "\n",
    "END\n",
    "\"\"\"\n",
    "cursor.execute(\"DROP PROCEDURE IF EXISTS UpdateBooking;\")\n",
    "cursor.execute(stored_proc)\n",
    "print('UpdateBooking proc created')\n",
    "# Retrieve recrods in \"dataset\"\n",
    "# Call the stored procedure with its name\n",
    "cursor.callproc(\"UpdateBooking\", args=(1,  '2023-05-02'))\n",
    "results = next( cursor.stored_results() )\n",
    "dataset = results.fetchall()\n",
    "\n",
    "# Retrieve column names using list comprehension in a 'for' loop \n",
    "for column_id in cursor.stored_results():\n",
    "    columns = [ column[0] for column in column_id.description ]\n",
    "print(columns)\n",
    "\n",
    "# Print data \n",
    "for data in dataset:\n",
    "    print(data)\n",
    "    \n"
   ]
  },
  {
   "cell_type": "markdown",
   "id": "2c1de488",
   "metadata": {},
   "source": [
    "### Task 3\n",
    "For the third and final task, Little Lemon need you to create a new procedure called ```CancelBooking``` that they can use to cancel or remove a booking.\n",
    "\n",
    "The procedure should have one input parameter in the form of booking id. You must also write a ```DELETE``` statement inside the procedure. \n"
   ]
  },
  {
   "cell_type": "code",
   "execution_count": 9,
   "id": "ac8c6780",
   "metadata": {},
   "outputs": [
    {
     "name": "stdout",
     "output_type": "stream",
     "text": [
      "CancelBooking proc created\n",
      "['confirmation']\n",
      "('New Booking Added',)\n",
      "['confirmation']\n",
      "('Booking id 2 is cancelled',)\n"
     ]
    }
   ],
   "source": [
    "stored_proc = \"\"\"\n",
    "CREATE PROCEDURE CancelBooking(IN booking_id INT)\n",
    "BEGIN\n",
    "DECLARE is_exists TINYINT DEFAULT 0;\n",
    "DECLARE result VARCHAR(255); \n",
    "SELECT EXISTS(SELECT 1 from Bookings WHERE BookingId = booking_id) INTO is_exists;\n",
    "IF  is_exists = 0 THEN\n",
    "\tSET result =  CONCAT('Booking id ' , booking_id , ' does not exist.');\n",
    "ELSE\n",
    "DELETE FROM Bookings WHERE BookingId = booking_id;\n",
    "COMMIT;\n",
    "SET result = CONCAT( 'Booking id ' , booking_id , ' is cancelled');\n",
    "END IF;\n",
    "SELECT result AS confirmation;\n",
    "END\n",
    "\"\"\"\n",
    "cursor.execute(\"DROP PROCEDURE IF EXISTS CancelBooking;\")\n",
    "cursor.execute(stored_proc)\n",
    "print('CancelBooking proc created')\n",
    "\n",
    "#add record for testing\n",
    "cursor.callproc(\"AddBooking\", args=(2, 1, '2023-05-01', 10))\n",
    "results = next( cursor.stored_results() )\n",
    "dataset = results.fetchall()\n",
    "\n",
    "# Retrieve column names using list comprehension in a 'for' loop \n",
    "for column_id in cursor.stored_results():\n",
    "    columns = [ column[0] for column in column_id.description ]\n",
    "print(columns)\n",
    "\n",
    "# Print data \n",
    "for data in dataset:\n",
    "    print(data)\n",
    "# Retrieve recrods in \"dataset\"\n",
    "# Call the stored procedure with its name\n",
    "cursor.callproc(\"CancelBooking\", args=(2,))\n",
    "results = next( cursor.stored_results() )\n",
    "dataset = results.fetchall()\n",
    "\n",
    "# Retrieve column names using list comprehension in a 'for' loop \n",
    "for column_id in cursor.stored_results():\n",
    "    columns = [ column[0] for column in column_id.description ]\n",
    "print(columns)\n",
    "\n",
    "# Print data \n",
    "for data in dataset:\n",
    "    print(data)\n",
    "    \n"
   ]
  },
  {
   "cell_type": "markdown",
   "id": "9ad68635",
   "metadata": {},
   "source": [
    "# Week 4"
   ]
  },
  {
   "cell_type": "markdown",
   "id": "8bff2cd9",
   "metadata": {},
   "source": [
    "### Task 1 - just connecting to db skipping since same as the connection in week 2 see first cell under week 2"
   ]
  },
  {
   "cell_type": "markdown",
   "id": "91eab01a",
   "metadata": {},
   "source": [
    "### Task 2\n",
    "Having established a connection in the first task, you need to execute a test query to ensure that there are no issues. You can do this by executing, or passing, a generic query that returns a snapshot of the database tables. \n",
    "\n",
    "You need to execute the query on the cursor using the code that follows. The cursor, as you should recall, is the bridge through which you can pass queries and return results. "
   ]
  },
  {
   "cell_type": "code",
   "execution_count": 10,
   "id": "eda43d36",
   "metadata": {},
   "outputs": [
    {
     "name": "stdout",
     "output_type": "stream",
     "text": [
      "('Tables_in_littlelemondb',)\n",
      "('bookings',)\n",
      "('customers',)\n",
      "('menuitems',)\n",
      "('menus',)\n",
      "('orderdeliverystatus',)\n",
      "('orders',)\n",
      "('ordersview',)\n",
      "('staff',)\n"
     ]
    }
   ],
   "source": [
    "show_tables_query = \"SHOW tables\" \n",
    "cursor.execute(show_tables_query)\n",
    "results=cursor.fetchall()\n",
    "columns=cursor.column_names\n",
    "print(columns)\n",
    "for result in results:\n",
    "    print(result)"
   ]
  },
  {
   "cell_type": "markdown",
   "id": "3dfc82e0",
   "metadata": {},
   "source": [
    "### Task 3 Query with table JOIN\n",
    "\n",
    "For the third and final task, Little Lemon need you to return specific details from your database. They require the full name and contact details for every customer that has placed an order greater than $60 for a promotional campaign. \n",
    "\n",
    "You can use the following steps to implement this functionality in your database directory:\n",
    "\n",
    "\n",
    "Step One: Identify which tables are required. To complete the query, you first need to identify which table has the required data. \n",
    "\n",
    "The bill paid can be found in Orders as TotalCost and the customer contact information can be found in the Customers table. \n",
    "\n",
    "When selecting attributes from a specific table, specify the table name, followed by a dot and the target attribute as below (Hint: select the column attributes that you will need). \n",
    "\n",
    "\n",
    "Step Two: Next, specify a table (Hint: The FROM keyword allows you to identify a table.)\n",
    "\n",
    "To join two tables, specify the type of JOIN and the attribute to join the table on. The tables must be joined on an attribute that is common to both tables (such as a common column).\n",
    "\n",
    "\n",
    "Step Three: Finally, include a clause to filter the data on. (Hint: the WHERE clause can be used to add conditional parameters.) \n",
    "\n",
    "When you have completed these steps, wrap this query as a string and pass it to the .execute() method of the cursor class. When executed, your SELECT query must extract the full name, contact details and bill amount for every customer who spent more than $60."
   ]
  },
  {
   "cell_type": "code",
   "execution_count": 11,
   "id": "8257164e",
   "metadata": {},
   "outputs": [
    {
     "name": "stdout",
     "output_type": "stream",
     "text": [
      "('CustomerId', 'FullName', 'Email', 'ContactNumber', 'TotalCost')\n",
      "['1', 'Laney Fadden', 'laney.fadden@customer.com', '54-366-6861', '86']\n",
      "['5', 'Tasia Fautly', 'tasia.fautly@customer.com', '86-114-9232', '155']\n",
      "['4', 'Merrill Baudon', 'merrill.baudon@customer.com', '36-917-2834', '200']\n"
     ]
    }
   ],
   "source": [
    "the_query = \"\"\"\n",
    "SELECT c.CustomerId, \n",
    "\t\tc.FullName,\n",
    "        c.Email,\n",
    "        c.ContactNumber,\n",
    "        o.TotalCost\n",
    "FROM customers c\n",
    "INNER JOIN orders o\n",
    "ON o.CustomerId = c.CustomerId\n",
    "WHERE o.TotalCost > 60\n",
    "ORDER BY o.TotalCost;\n",
    "\"\"\"\n",
    "\n",
    "cursor.execute(the_query)\n",
    "\n",
    "results=cursor.fetchall()\n",
    "columns=cursor.column_names\n",
    "print(columns)\n",
    "for result in results:\n",
    "    print([str(r) for r in result])    "
   ]
  },
  {
   "cell_type": "code",
   "execution_count": 12,
   "id": "d5197997",
   "metadata": {},
   "outputs": [
    {
     "data": {
      "text/plain": [
       "True"
      ]
     },
     "execution_count": 12,
     "metadata": {},
     "output_type": "execute_result"
    }
   ],
   "source": [
    "connection.close()\n",
    "cursor.close()"
   ]
  },
  {
   "cell_type": "code",
   "execution_count": null,
   "id": "972918ff",
   "metadata": {},
   "outputs": [],
   "source": []
  }
 ],
 "metadata": {
  "kernelspec": {
   "display_name": "Python 3 (ipykernel)",
   "language": "python",
   "name": "python3"
  },
  "language_info": {
   "codemirror_mode": {
    "name": "ipython",
    "version": 3
   },
   "file_extension": ".py",
   "mimetype": "text/x-python",
   "name": "python",
   "nbconvert_exporter": "python",
   "pygments_lexer": "ipython3",
   "version": "3.9.0"
  }
 },
 "nbformat": 4,
 "nbformat_minor": 5
}
